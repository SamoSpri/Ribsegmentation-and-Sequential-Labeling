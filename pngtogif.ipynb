{
  "cells": [
    {
      "cell_type": "code",
      "execution_count": 1,
      "metadata": {},
      "outputs": [],
      "source": [
        "from PIL import Image\n",
        "import os\n",
        "\n",
        "# 변환하려는 이미지가 저장된 경로\n",
        "input_folder = \"C:/RIB/code/code_final/Numbering/Ribfrac541/number_merged\"\n",
        "\n",
        "# png 파일만 선택\n",
        "files = [f for f in os.listdir(input_folder) if f.endswith('.png')]\n",
        "\n",
        "# 이미지 경로 정렬 (필요에 따라 정렬 알고리즘을 변경할 수 있습니다)\n",
        "files.sort()\n",
        "\n",
        "images = []\n",
        "\n",
        "for file in files:\n",
        "    file_path = os.path.join(input_folder, file)\n",
        "    images.append(Image.open(file_path))\n",
        "\n",
        "# 첫 번째 이미지를 저장하고 나머지 이미지를 이어붙입니다.\n",
        "images[0].save('output.gif', save_all=True, append_images=images[1:], loop=0)\n"
      ]
    }
  ],
  "metadata": {
    "colab": {
      "provenance": []
    },
    "kernelspec": {
      "display_name": "Python 3",
      "name": "python3"
    },
    "language_info": {
      "codemirror_mode": {
        "name": "ipython",
        "version": 3
      },
      "file_extension": ".py",
      "mimetype": "text/x-python",
      "name": "python",
      "nbconvert_exporter": "python",
      "pygments_lexer": "ipython3",
      "version": "3.8.16"
    }
  },
  "nbformat": 4,
  "nbformat_minor": 0
}
